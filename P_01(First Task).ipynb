{
 "cells": [
  {
   "cell_type": "markdown",
   "id": "8c83bd1a",
   "metadata": {},
   "source": [
    "### **Problem 0.1:**\n",
    "Write a program to compute pair-wise Euclean distances (i.e., $L_2$ norm) between all vectors in a set of data samples:\n",
    "$$\\mathcal{D} = \\big\\{ \\mathbf{x}_1, \\mathbf{x}_2, \\cdots, \\mathbf{x}_N \\big\\}$$\n",
    "where each $\\mathbf{x}_i \\in \\mathbb{R}^d$.\n",
    "Store all these pair-wise distances in a symmetric marix $\\mathbf{E} \\in \\mathbb{R}^{N \\times N}$, where each element $e_{ij}$ indicates the distance between $\\mathbf{x}_i$ and $\\mathbf{x}_j$. \n",
    "\n",
    "1.   Implement it using regular loop-based programing style. \n",
    "\n",
    "2.   Implement it use vectorization.\n",
    "\n",
    "3.   Generate some random samples, compare the above two implementations in terms of running speed. "
   ]
  },
  {
   "cell_type": "code",
   "execution_count": 1,
   "id": "df4e1d06",
   "metadata": {},
   "outputs": [],
   "source": [
    "#Code Owner: Danish Zaheer\n",
    "#Date: 9-27-2022\n",
    "import numpy as np\n",
    "import math as m"
   ]
  },
  {
   "cell_type": "code",
   "execution_count": 2,
   "id": "2c94505d",
   "metadata": {},
   "outputs": [],
   "source": [
    "#By using loop-based programming\n",
    "def Euclidean_Distance(D):\n",
    "    E= np.zeros((D.shape[0],D.shape[0]))\n",
    "    for i in range(D.shape[0]):\n",
    "        N = D[i]\n",
    "        for j in range(D.shape[0]):\n",
    "            E[i,j] = 0\n",
    "            for k in range(D.shape[1]): \n",
    "                E[i,j] = E[i,j] + ((N[k])-(D[j,k]))**2\n",
    "            E[i,j] = m.sqrt(E[i,j])\n",
    "    return E"
   ]
  },
  {
   "cell_type": "code",
   "execution_count": 3,
   "id": "c5f8f353",
   "metadata": {},
   "outputs": [],
   "source": [
    "#By using vectorization\n",
    "from scipy.spatial.distance import cdist\n",
    "def Euclidean_Distance_vect(D):\n",
    "    E = cdist(X,X)\n",
    "    return E"
   ]
  },
  {
   "cell_type": "code",
   "execution_count": 4,
   "id": "533fcfb4",
   "metadata": {},
   "outputs": [
    {
     "name": "stdout",
     "output_type": "stream",
     "text": [
      "1.9 s ± 31.5 ms per loop (mean ± std. dev. of 7 runs, 1 loop each)\n",
      "3.35 ms ± 33.3 µs per loop (mean ± std. dev. of 7 runs, 100 loops each)\n"
     ]
    }
   ],
   "source": [
    "#compairing the time complexity of both methods\n",
    "X = np.random.normal(size=(400,5)) #(any positive int,any positive int)\n",
    "%timeit Euclidean_Distance(X)\n",
    "%timeit Euclidean_Distance_vect(X)"
   ]
  },
  {
   "cell_type": "markdown",
   "id": "3cd936bf",
   "metadata": {},
   "source": [
    "Clearly, the output shows that Vectorization is far more optimized(execution time is lesser).\n"
   ]
  }
 ],
 "metadata": {
  "kernelspec": {
   "display_name": "Python 3 (ipykernel)",
   "language": "python",
   "name": "python3"
  },
  "language_info": {
   "codemirror_mode": {
    "name": "ipython",
    "version": 3
   },
   "file_extension": ".py",
   "mimetype": "text/x-python",
   "name": "python",
   "nbconvert_exporter": "python",
   "pygments_lexer": "ipython3",
   "version": "3.9.12"
  }
 },
 "nbformat": 4,
 "nbformat_minor": 5
}
